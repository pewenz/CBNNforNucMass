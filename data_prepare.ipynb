{
 "cells": [
  {
   "cell_type": "code",
   "execution_count": 1,
   "id": "ccfb53f9812c2ff4",
   "metadata": {
    "ExecuteTime": {
     "end_time": "2024-12-25T12:50:33.356161Z",
     "start_time": "2024-12-25T12:50:33.353159Z"
    }
   },
   "outputs": [],
   "source": [
    "import pandas as pd\n",
    "import myutils.data_util"
   ]
  },
  {
   "cell_type": "code",
   "execution_count": 2,
   "id": "initial_id",
   "metadata": {
    "ExecuteTime": {
     "end_time": "2024-12-25T12:50:33.360671Z",
     "start_time": "2024-12-25T12:50:33.357669Z"
    }
   },
   "outputs": [],
   "source": [
    "file_path = 'data/raw_AME2020.txt'"
   ]
  },
  {
   "cell_type": "code",
   "execution_count": 28,
   "id": "ca76a36ce5c3ef94",
   "metadata": {
    "ExecuteTime": {
     "end_time": "2024-12-25T12:50:33.364182Z",
     "start_time": "2024-12-25T12:50:33.361176Z"
    }
   },
   "outputs": [],
   "source": [
    "cols_needed = [\n",
    "    (1, 6),  # N - Z\n",
    "    (6, 10),  # N\n",
    "    (11, 16),  # Z\n",
    "    (16, 20),  # A\n",
    "    (56, 69),  # Experimental BINDING ENERGY / A (keV)\n",
    "    (124, 130)  # Uncertainty (keV)\n",
    "]"
   ]
  },
  {
   "cell_type": "code",
   "execution_count": 29,
   "id": "c19efe38b47682fe",
   "metadata": {
    "ExecuteTime": {
     "end_time": "2024-12-25T12:50:33.381697Z",
     "start_time": "2024-12-25T12:50:33.365189Z"
    }
   },
   "outputs": [],
   "source": [
    "df = pd.read_fwf(\n",
    "    file_path,\n",
    "    colspecs=cols_needed,\n",
    "    header=None,\n",
    "    skiprows=36\n",
    ")"
   ]
  },
  {
   "cell_type": "code",
   "execution_count": 30,
   "id": "8b26ae6642b6d09a",
   "metadata": {
    "ExecuteTime": {
     "end_time": "2024-12-25T12:50:33.388742Z",
     "start_time": "2024-12-25T12:50:33.382740Z"
    }
   },
   "outputs": [
    {
     "data": {
      "text/html": [
       "<div>\n",
       "<style scoped>\n",
       "    .dataframe tbody tr th:only-of-type {\n",
       "        vertical-align: middle;\n",
       "    }\n",
       "\n",
       "    .dataframe tbody tr th {\n",
       "        vertical-align: top;\n",
       "    }\n",
       "\n",
       "    .dataframe thead th {\n",
       "        text-align: right;\n",
       "    }\n",
       "</style>\n",
       "<table border=\"1\" class=\"dataframe\">\n",
       "  <thead>\n",
       "    <tr style=\"text-align: right;\">\n",
       "      <th></th>\n",
       "      <th>N-Z</th>\n",
       "      <th>N</th>\n",
       "      <th>Z</th>\n",
       "      <th>A</th>\n",
       "      <th>BINDING_energy_per_nucleon(keV)</th>\n",
       "      <th>Uncertainty(keV)</th>\n",
       "    </tr>\n",
       "  </thead>\n",
       "  <tbody>\n",
       "    <tr>\n",
       "      <th>0</th>\n",
       "      <td>1</td>\n",
       "      <td>1</td>\n",
       "      <td>0</td>\n",
       "      <td>1</td>\n",
       "      <td>0.0</td>\n",
       "      <td>0.0</td>\n",
       "    </tr>\n",
       "    <tr>\n",
       "      <th>1</th>\n",
       "      <td>-1</td>\n",
       "      <td>0</td>\n",
       "      <td>1</td>\n",
       "      <td>1</td>\n",
       "      <td>0.0</td>\n",
       "      <td>0.0</td>\n",
       "    </tr>\n",
       "    <tr>\n",
       "      <th>2</th>\n",
       "      <td>0</td>\n",
       "      <td>1</td>\n",
       "      <td>1</td>\n",
       "      <td>2</td>\n",
       "      <td>1112.2831</td>\n",
       "      <td>0.0</td>\n",
       "    </tr>\n",
       "    <tr>\n",
       "      <th>3</th>\n",
       "      <td>1</td>\n",
       "      <td>2</td>\n",
       "      <td>1</td>\n",
       "      <td>3</td>\n",
       "      <td>2827.2654</td>\n",
       "      <td>0.0</td>\n",
       "    </tr>\n",
       "    <tr>\n",
       "      <th>4</th>\n",
       "      <td>-1</td>\n",
       "      <td>1</td>\n",
       "      <td>2</td>\n",
       "      <td>3</td>\n",
       "      <td>2572.68044</td>\n",
       "      <td>0.0</td>\n",
       "    </tr>\n",
       "  </tbody>\n",
       "</table>\n",
       "</div>"
      ],
      "text/plain": [
       "   N-Z  N  Z  A BINDING_energy_per_nucleon(keV) Uncertainty(keV)\n",
       "0    1  1  0  1                             0.0              0.0\n",
       "1   -1  0  1  1                             0.0              0.0\n",
       "2    0  1  1  2                       1112.2831              0.0\n",
       "3    1  2  1  3                       2827.2654              0.0\n",
       "4   -1  1  2  3                      2572.68044              0.0"
      ]
     },
     "execution_count": 30,
     "metadata": {},
     "output_type": "execute_result"
    }
   ],
   "source": [
    "df.columns = ['N-Z',\n",
    "              'N',\n",
    "              'Z',\n",
    "              'A',\n",
    "              'BINDING_energy_per_nucleon(keV)',\n",
    "              'Uncertainty(keV)',\n",
    "              ]\n",
    "df.head()"
   ]
  },
  {
   "cell_type": "code",
   "execution_count": 31,
   "id": "b6f03e6e533ca516",
   "metadata": {
    "ExecuteTime": {
     "end_time": "2024-12-25T12:50:33.419124Z",
     "start_time": "2024-12-25T12:50:33.416161Z"
    }
   },
   "outputs": [],
   "source": [
    "# delete non-experimental data which contains '#'\n",
    "# df = df[~df['BINDING_energy_per_nucleon(keV)'].str.contains('#', na=False)]"
   ]
  },
  {
   "cell_type": "code",
   "execution_count": 32,
   "id": "d4f8ac78c91dc81d",
   "metadata": {
    "ExecuteTime": {
     "end_time": "2024-12-25T12:50:33.445428Z",
     "start_time": "2024-12-25T12:50:33.443128Z"
    }
   },
   "outputs": [],
   "source": [
    "# define a data clean function to \n",
    "# delete space and asterisk\n",
    "# and a converse dtype from `string` to `float`\n",
    "def clean_and_convert(column_to_clean):\n",
    "    return df[column_to_clean].str.replace(r'[ *#]', '', regex=True).astype(float)"
   ]
  },
  {
   "cell_type": "code",
   "execution_count": 33,
   "id": "ac03c91d1773d680",
   "metadata": {
    "ExecuteTime": {
     "end_time": "2024-12-25T12:50:33.462513Z",
     "start_time": "2024-12-25T12:50:33.455433Z"
    }
   },
   "outputs": [
    {
     "name": "stdout",
     "output_type": "stream",
     "text": [
      "3558 samples in the dataset now.\n"
     ]
    }
   ],
   "source": [
    "df['Uncertainty(keV)'] = clean_and_convert('Uncertainty(keV)')\n",
    "df['BINDING_energy_per_nucleon(keV)'] = clean_and_convert('BINDING_energy_per_nucleon(keV)')\n",
    "print(f\"{len(df)} samples in the dataset now.\")"
   ]
  },
  {
   "cell_type": "code",
   "execution_count": 34,
   "id": "3685184174cd874b",
   "metadata": {
    "ExecuteTime": {
     "end_time": "2024-12-25T12:51:11.643477Z",
     "start_time": "2024-12-25T12:51:11.638473Z"
    }
   },
   "outputs": [
    {
     "name": "stdout",
     "output_type": "stream",
     "text": [
      "3456 samples in the dataset now.\n"
     ]
    }
   ],
   "source": [
    "# data filtering\n",
    "df = df[(df['Z'] >= 8) & (df['N'] >= 8)]\n",
    "# df = df[df['Uncertainty(keV)'] <= 150]\n",
    "print(f\"{len(df)} samples in the dataset now.\")"
   ]
  },
  {
   "cell_type": "code",
   "execution_count": 35,
   "id": "7284ab775a61475e",
   "metadata": {
    "ExecuteTime": {
     "end_time": "2024-12-25T12:51:12.001406Z",
     "start_time": "2024-12-25T12:51:11.995382Z"
    }
   },
   "outputs": [],
   "source": [
    "# calculate new columns as inputs\n",
    "df['A^(2/3)'] = df['A'] ** (2 / 3)\n",
    "df['A^(-1/3)'] = df['A'] ** (-1 / 3)\n",
    "df['P'] = ((-1) ** df['N'] + (-1) ** df['Z']) / 2\n",
    "df['I'] = 1 - 2 * df['Z'] / df['A']\n",
    "df['B_exp(MeV)'] = df['BINDING_energy_per_nucleon(keV)'] * df['A'] / 1000"
   ]
  },
  {
   "cell_type": "code",
   "execution_count": 36,
   "id": "d8bade9b47411cc2",
   "metadata": {
    "ExecuteTime": {
     "end_time": "2024-12-25T12:51:16.468633Z",
     "start_time": "2024-12-25T12:51:16.463633Z"
    }
   },
   "outputs": [],
   "source": [
    "def cal_binding_ldm(row):\n",
    "    a_v = 15.6606\n",
    "    k_v = -2.0026\n",
    "    a_s = -18.4157\n",
    "    k_s = -3.0620\n",
    "    a_c = -0.7149\n",
    "    c1 = -42.3948\n",
    "    a_pair = 6.7656\n",
    "\n",
    "    Z = row['Z']\n",
    "    N = row['N']\n",
    "    A = row['A']\n",
    "    Iso = row['I']\n",
    "\n",
    "    def delta_np(z, n):\n",
    "\n",
    "        if z % 2 == 0 and n % 2 == 0:  # Z-even, N-even\n",
    "            return 2 - abs(Iso)\n",
    "        elif z % 2 == 1 and n % 2 == 1:  # Z-odd, N-odd\n",
    "            return abs(Iso)\n",
    "        elif z % 2 == 1 and n % 2 == 0:  # Z-odd, N-even\n",
    "            if n > z:\n",
    "                return 1 - abs(Iso)\n",
    "            else:\n",
    "                return 1\n",
    "        elif z % 2 == 0 and n % 2 == 1:  # Z-even, N-odd\n",
    "            if n > z:\n",
    "                return 1\n",
    "            else:\n",
    "                return 1 - abs(Iso)\n",
    "\n",
    "    B_LDM = (a_v * (1 + k_v * Iso ** 2) * A +\n",
    "             a_s * (1 + k_s * Iso ** 2) * A ** (2 / 3) +\n",
    "             a_c * Z ** 2 / A ** (1 / 3) * (1 - Z ** (-2 / 3)) +\n",
    "             c1 * ((2 - abs(Iso)) / (2 + abs(Iso) * A)) * Iso ** 2 * A +\n",
    "             a_pair * A ** (-1/3) * delta_np(Z, N))\n",
    "\n",
    "    return B_LDM"
   ]
  },
  {
   "cell_type": "code",
   "execution_count": 37,
   "id": "c720cd0ddd50d779",
   "metadata": {
    "ExecuteTime": {
     "end_time": "2024-12-25T12:51:17.720561Z",
     "start_time": "2024-12-25T12:51:17.691625Z"
    }
   },
   "outputs": [],
   "source": [
    "# Calculate the LDM binding energy and the residual with experimental data\n",
    "df['B_LDM(MeV)'] = df.apply(cal_binding_ldm, axis=1)\n",
    "df['LDM_residual(MeV)'] = df['B_exp(MeV)'] - df['B_LDM(MeV)']"
   ]
  },
  {
   "cell_type": "code",
   "execution_count": 38,
   "id": "21fcbb03e6edb694",
   "metadata": {
    "ExecuteTime": {
     "end_time": "2024-12-25T12:51:22.061643Z",
     "start_time": "2024-12-25T12:51:22.032132Z"
    }
   },
   "outputs": [],
   "source": [
    "magic_numbers = [8, 20, 28, 50, 82, 126]\n",
    "\n",
    "def nearest_magic_number(nucleons):\n",
    "    return min(magic_numbers, key=lambda magic: abs(magic - nucleons))\n",
    "\n",
    "def cal_d(row):\n",
    "    z = row['Z']\n",
    "    n = row['N']\n",
    "\n",
    "    nearest_magic_Z = nearest_magic_number(z)\n",
    "    nearest_magic_N = nearest_magic_number(n)\n",
    "\n",
    "    v_p = abs(z - nearest_magic_Z)\n",
    "    v_n = abs(n - nearest_magic_N)\n",
    "\n",
    "    if v_p + v_n == 0:\n",
    "        return 0\n",
    "\n",
    "    P = (v_p * v_n) / (v_p + v_n)\n",
    "    return P\n",
    "\n",
    "df['D'] = df.apply(cal_d, axis=1)"
   ]
  },
  {
   "cell_type": "code",
   "execution_count": 39,
   "id": "f55108eb06f80d5",
   "metadata": {
    "ExecuteTime": {
     "end_time": "2024-12-25T12:51:22.622001Z",
     "start_time": "2024-12-25T12:51:22.427979Z"
    }
   },
   "outputs": [],
   "source": [
    "# Calculate the nucleon separation energy\n",
    "df['Sn_exp(MeV)'] = myutils.data_utility.neutron_1_separation_energy(dataframe=df, head_of_BindingEnergy='B_exp(MeV)')\n",
    "df['Sp_exp(MeV)'] = myutils.data_utility.proton_1_separation_energy(dataframe=df, head_of_BindingEnergy='B_exp(MeV)')\n",
    "df['S2n_exp(MeV)'] = myutils.data_utility.neutron_2_separation_energy(dataframe=df, head_of_BindingEnergy='B_exp(MeV)')\n",
    "df['S2p_exp(MeV)'] = myutils.data_utility.proton_2_separation_energy(dataframe=df, head_of_BindingEnergy='B_exp(MeV)')"
   ]
  },
  {
   "cell_type": "code",
   "execution_count": 40,
   "id": "4813821a39b820c5",
   "metadata": {
    "ExecuteTime": {
     "end_time": "2024-12-25T12:51:25.100343Z",
     "start_time": "2024-12-25T12:51:25.096353Z"
    }
   },
   "outputs": [
    {
     "name": "stdout",
     "output_type": "stream",
     "text": [
      "There are totally 3456 rows in the dataset, and each sample has 18 dimensions:\n",
      "N-Z                                  int64\n",
      "N                                    int64\n",
      "Z                                    int64\n",
      "A                                    int64\n",
      "BINDING_energy_per_nucleon(keV)    float64\n",
      "Uncertainty(keV)                   float64\n",
      "A^(2/3)                            float64\n",
      "A^(-1/3)                           float64\n",
      "P                                  float64\n",
      "I                                  float64\n",
      "B_exp(MeV)                         float64\n",
      "B_LDM(MeV)                         float64\n",
      "LDM_residual(MeV)                  float64\n",
      "D                                  float64\n",
      "Sn_exp(MeV)                        float64\n",
      "Sp_exp(MeV)                        float64\n",
      "S2n_exp(MeV)                       float64\n",
      "S2p_exp(MeV)                       float64\n",
      "dtype: object\n"
     ]
    }
   ],
   "source": [
    "print(f'There are totally {len(df)} rows in the dataset, and each sample has {df.shape[1]} dimensions:\\n{df.dtypes}')"
   ]
  },
  {
   "cell_type": "code",
   "execution_count": 41,
   "id": "df104c234ff19f11",
   "metadata": {
    "ExecuteTime": {
     "end_time": "2024-12-25T12:51:37.200619Z",
     "start_time": "2024-12-25T12:51:37.170212Z"
    }
   },
   "outputs": [],
   "source": [
    "save_path = 'data/all_dataset.csv'\n",
    "df.to_csv(save_path, index=False)"
   ]
  },
  {
   "cell_type": "code",
   "execution_count": 64,
   "id": "dba297bedec163e3",
   "metadata": {
    "ExecuteTime": {
     "end_time": "2024-12-25T10:57:03.948664Z",
     "start_time": "2024-12-25T10:57:03.946789Z"
    }
   },
   "outputs": [],
   "source": []
  }
 ],
 "metadata": {
  "kernelspec": {
   "display_name": "Summer_School",
   "language": "python",
   "name": "python3"
  },
  "language_info": {
   "codemirror_mode": {
    "name": "ipython",
    "version": 3
   },
   "file_extension": ".py",
   "mimetype": "text/x-python",
   "name": "python",
   "nbconvert_exporter": "python",
   "pygments_lexer": "ipython3",
   "version": "3.11.9"
  }
 },
 "nbformat": 4,
 "nbformat_minor": 5
}
